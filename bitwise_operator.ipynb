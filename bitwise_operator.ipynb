{
  "nbformat": 4,
  "nbformat_minor": 0,
  "metadata": {
    "colab": {
      "provenance": [],
      "authorship_tag": "ABX9TyOcYXw1nNredV1LjRFvEB2Q",
      "include_colab_link": true
    },
    "kernelspec": {
      "name": "python3",
      "display_name": "Python 3"
    },
    "language_info": {
      "name": "python"
    }
  },
  "cells": [
    {
      "cell_type": "markdown",
      "metadata": {
        "id": "view-in-github",
        "colab_type": "text"
      },
      "source": [
        "<a href=\"https://colab.research.google.com/github/Anmolkr1909/Bitwise_operator/blob/main/bitwise_operator.ipynb\" target=\"_parent\"><img src=\"https://colab.research.google.com/assets/colab-badge.svg\" alt=\"Open In Colab\"/></a>"
      ]
    },
    {
      "cell_type": "markdown",
      "source": [
        "# Bitwise operator\n",
        "\n",
        "---\n",
        "\n"
      ],
      "metadata": {
        "id": "uzWUjmMlWsV5"
      }
    },
    {
      "cell_type": "markdown",
      "source": [
        "*    29) User Role System\n",
        "\n",
        "\n",
        "   *   permision using ( | ) and ( & )\n",
        "\n",
        "\n",
        "\n"
      ],
      "metadata": {
        "id": "CiHVg9ZOXTpo"
      }
    },
    {
      "cell_type": "code",
      "source": [
        "#step1;  set each role with a number\n",
        "ADMIN = 1                #0001\n",
        "EDITOR = 2               #0010\n",
        "VIEWER = 3               #0100\n",
        "\n",
        "#step2; give user 2 roles: admin and editor\n",
        "user_role = ADMIN | EDITOR  # 0001 | 0011 (means user has both roles)\n",
        "\n",
        "\n",
        "#step3:check if user is admin\n",
        "if user_role & ADMIN:\n",
        "  print(\"User has admin role\")\n",
        "\n",
        "#step4: check if user is viwer\n",
        "if user_role & VIEWER:\n",
        "  print(\"User has viewer role\")\n",
        "\n",
        "else:\n",
        "  print(\"User has no viewer role\")"
      ],
      "metadata": {
        "colab": {
          "base_uri": "https://localhost:8080/"
        },
        "id": "RqbCykizcdHD",
        "outputId": "9125f0cb-ab42-4a55-ea28-2c44e6c7392f"
      },
      "execution_count": null,
      "outputs": [
        {
          "output_type": "stream",
          "name": "stdout",
          "text": [
            "User has admin role\n",
            "User has viewer role\n"
          ]
        }
      ]
    },
    {
      "cell_type": "markdown",
      "source": [
        "\n",
        "\n",
        "---\n",
        "\n"
      ],
      "metadata": {
        "id": "01LsCuF_fKyc"
      }
    },
    {
      "cell_type": "markdown",
      "source": [
        "30) Light bulb ON/OFF\n",
        "\n",
        "* using ( ^ )"
      ],
      "metadata": {
        "id": "2bc02AxPfnDx"
      }
    },
    {
      "cell_type": "code",
      "source": [
        "\n",
        "bulb = 1\n",
        "\n",
        "bulb = bulb ^ 1\n",
        "\n",
        "if bulb == 1:\n",
        "  print(\"bulb is on\")\n",
        "else:\n",
        "  print(\"bulb is off\")\n"
      ],
      "metadata": {
        "colab": {
          "base_uri": "https://localhost:8080/"
        },
        "id": "q0Q-XxTmgCuI",
        "outputId": "afc2349e-eb67-4544-b3f9-58c152b0816b"
      },
      "execution_count": null,
      "outputs": [
        {
          "output_type": "stream",
          "name": "stdout",
          "text": [
            "bulb is off\n"
          ]
        }
      ]
    },
    {
      "cell_type": "markdown",
      "source": [
        "\n",
        "\n",
        "---\n",
        "\n"
      ],
      "metadata": {
        "id": "N2Fd-iBwix9Z"
      }
    },
    {
      "cell_type": "markdown",
      "source": [
        " 31) Smart lock with 4 step"
      ],
      "metadata": {
        "id": "3msWDP92hSDO"
      }
    },
    {
      "cell_type": "code",
      "source": [
        "#step1: set each step with a number\n",
        "\n",
        "\n",
        "STEP1 = 1   # 0001\n",
        "STEP2 = 2   # 0010\n",
        "STEP3 = 4   # 0100\n",
        "STEP4 = 8   # 1000\n",
        "\n",
        "#step2: simulate user completing some steps\n",
        "user_progress = STEP1 | STEP3 # User completed step 1 and step 3\n",
        "\n",
        "#step3: check if user completed a specific step (e.g., step 2)\n",
        "if user_progress & STEP2:\n",
        "  print(\"User has completed Step 2\")\n",
        "else:\n",
        "  print(\"User has not completed Step 2\")\n",
        "\n",
        "#step4: check if user has completed all steps\n",
        "if user_progress == (STEP1 | STEP2 | STEP3 | STEP4):\n",
        "  print(\"User has completed all steps and unlocked the smart lock\")\n",
        "else:\n",
        "  print(\"User has not completed all steps\")"
      ],
      "metadata": {
        "id": "-xPfDmpIip8B"
      },
      "execution_count": null,
      "outputs": []
    },
    {
      "cell_type": "markdown",
      "source": [
        "\n",
        "\n",
        "---\n",
        "\n"
      ],
      "metadata": {
        "id": "gXdrgBOfi05Z"
      }
    }
  ]
}